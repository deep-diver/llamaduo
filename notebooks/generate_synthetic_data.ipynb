{
  "nbformat": 4,
  "nbformat_minor": 0,
  "metadata": {
    "colab": {
      "private_outputs": true,
      "provenance": []
    },
    "kernelspec": {
      "name": "python3",
      "display_name": "Python 3"
    },
    "language_info": {
      "name": "python"
    }
  },
  "cells": [
    {
      "cell_type": "markdown",
      "source": [
        "## Generating instruction-answer pairs with Gemini\n",
        "\n",
        "References:\n",
        "\n",
        "* https://ai.google.dev/tutorials/python_quickstart\n",
        "* https://github.com/deep-diver/llmops-pipeline/issues/8#issue-2212315206"
      ],
      "metadata": {
        "id": "g9uN9ue0_47B"
      }
    },
    {
      "cell_type": "code",
      "execution_count": null,
      "metadata": {
        "id": "OlvbFd996wHh"
      },
      "outputs": [],
      "source": [
        "!pip install -q -U google-generativeai"
      ]
    },
    {
      "cell_type": "code",
      "source": [
        "from google.colab import userdata\n",
        "import google.generativeai as genai\n",
        "\n",
        "GOOGLE_API_KEY = userdata.get(\"GOOGLE_API_KEY\")\n",
        "\n",
        "genai.configure(api_key=GOOGLE_API_KEY)"
      ],
      "metadata": {
        "id": "E9LBHkZ67Cah"
      },
      "execution_count": null,
      "outputs": []
    },
    {
      "cell_type": "code",
      "source": [
        "for m in genai.list_models():\n",
        "    if \"generateContent\" in m.supported_generation_methods:\n",
        "        if \"gemini-1.5\" in m.name:\n",
        "            print(m.name)"
      ],
      "metadata": {
        "id": "1EPLdnSw61o2"
      },
      "execution_count": null,
      "outputs": []
    },
    {
      "cell_type": "code",
      "source": [
        "model_name = \"gemini-1.5-pro-latest\"\n",
        "\n",
        "model = genai.GenerativeModel(model_name)"
      ],
      "metadata": {
        "id": "SMsOxS467btm"
      },
      "execution_count": null,
      "outputs": []
    },
    {
      "cell_type": "code",
      "source": [
        "prompt = \"\"\"\n",
        "Generate a series of (instruction, response) pairs that are similar in context and structure to the example provided below. Each pair should consist of a concise instruction followed by an appropriate, detailed response. The instruction should pose a clear task or question, while the response should provide a comprehensive answer or solution that could be understood by someone with a basic understanding of the subject.\n",
        "\n",
        "Example pair:\n",
        "\n",
        "Instruction: This Java function below is not working as I expected, it's supposed to go through an array of numbers and if it finds a number in the array that is divisible by 2 with a remainder of 0, then it adds it to a new array and returns the new array at the end. Can you help debug the function and explain how why it's not working as expected?\\n\\npublic static List checkForEvens(int [] nums) {\\n ArrayList anwer = new ArrayList<Integer>();\\n for(int i = 0; i < nums.length; i++) {\\n if(nums[i] / 2 == 0) {\\n answer.add(nums[i]\\n } \\n }\\n}\n",
        "Response: Certainly! The function 'checkForEvens' iterates through an array and if a number in the array is divisible by 2, then it gets added to 'answer' which is later returned.\\n\\nThe reason the function may not be returning the expected result is because of the if statement, 'if (nums[i] /2 == 0)'. The statement is looking for numbers that get divided by 2 in the array and equal 0, which doesn't align with what you expect the function to do. \\n\\nInstead, you want to use the modulo operator to check for the remainder of a number that is being divided by 2. If a number is divided by 2 and returns a remainder of 0, then we can assume that it's an even number. So, the small change of 'if (nums[i] % 2 == 0)' should solve your issue. \\n\\nI've rewritten the function below with the correction.\\n\\npublic static List checkForEvens(int [] nums) {\\n ArrayList anwer = new ArrayList<Integer>();\\n for(int i = 0; i < nums.length; i++) {\\n if(nums[i] % 2 == 0) {\\n answer.add(nums[i]\\n } \\n }\\n}\n",
        "\n",
        "Your task is to generate more pairs that maintain this level of clarity and detail. The topic is Coding. Ensure that the responses are informative and accurate, suitable for an educational context.\n",
        "\n",
        "Store the generated pairs in JSON format, with each pair as an object within an array. Each object should have two key-value pairs: \"instruction\" and \"response\". For instance:\n",
        "\n",
        "[{\"instruction\": text, \"response\": text}, {\"instruction\": text, \"response\": text}, ...]\n",
        "\n",
        "Remember to maintain consistency in the format and ensure the generated pairs are diverse and cover a broad range of subjects. You must return the response\n",
        "in the asked format and you must to add any additional text in your response.\n",
        "\"\"\""
      ],
      "metadata": {
        "id": "E9kD7_ie9Fgq"
      },
      "execution_count": null,
      "outputs": []
    },
    {
      "cell_type": "code",
      "source": [
        "response = model.generate_content(prompt)"
      ],
      "metadata": {
        "id": "Tl1uCwhx8iS_"
      },
      "execution_count": null,
      "outputs": []
    },
    {
      "cell_type": "code",
      "source": [
        "from IPython.display import Markdown\n",
        "import textwrap\n",
        "\n",
        "def to_markdown(text):\n",
        "    text = text.replace('•', '  *')\n",
        "    return Markdown(textwrap.indent(text, '> ', predicate=lambda _: True))\n",
        "\n",
        "to_markdown(response.text)"
      ],
      "metadata": {
        "id": "7WpXubHD9eIc"
      },
      "execution_count": null,
      "outputs": []
    },
    {
      "cell_type": "code",
      "source": [
        "eval(response.text)"
      ],
      "metadata": {
        "id": "cf9B3Zig--ps"
      },
      "execution_count": null,
      "outputs": []
    },
    {
      "cell_type": "markdown",
      "source": [
        "## Generating similar responses with periodic hints from the original dataset"
      ],
      "metadata": {
        "id": "MBkd2xYYAFGg"
      }
    },
    {
      "cell_type": "code",
      "source": [
        "!pip install datasets -q -U"
      ],
      "metadata": {
        "id": "t7rxWFxn_KVY"
      },
      "execution_count": null,
      "outputs": []
    },
    {
      "cell_type": "code",
      "source": [
        "from datasets import load_dataset\n",
        "\n",
        "existing_dataset = load_dataset(\"sayakpaul/no_robots_only_coding\", split=\"train_sft\")\n",
        "existing_dataset"
      ],
      "metadata": {
        "id": "dHIkri4S_L4o"
      },
      "execution_count": null,
      "outputs": []
    },
    {
      "cell_type": "code",
      "source": [
        "existing_dataset[1][\"messages\"]"
      ],
      "metadata": {
        "id": "ofVfDOvr_tAj"
      },
      "execution_count": null,
      "outputs": []
    },
    {
      "cell_type": "code",
      "source": [
        "import numpy as np\n",
        "\n",
        "num_periods = 5\n",
        "total_original_samples = len(existing_dataset)\n",
        "random_indieces = np.random.randint(0, total_original_samples, size=(num_periods))\n",
        "random_indieces"
      ],
      "metadata": {
        "id": "LLMCjuSQAKni"
      },
      "execution_count": null,
      "outputs": []
    },
    {
      "cell_type": "code",
      "source": [
        "from typing import List, Dict\n",
        "\n",
        "def generate_with_gemini():\n",
        "    response = model.generate_content(prompt)\n",
        "    return eval(response.text)\n",
        "\n",
        "def format_response(responses: List[Dict[str, str]]):\n",
        "    final_instruction_answer_pair = []\n",
        "\n",
        "    for response in responses:\n",
        "        user_response_dict = assistant_response_dict = {}\n",
        "        user_response_dict[\"content\"] = response[\"instruction\"]\n",
        "        user_response_dict[\"role\"] = \"user\"\n",
        "        assistant_response_dict[\"content\"] = response[\"response\"]\n",
        "        assistant_response_dict[\"role\"] = \"assistant\"\n",
        "\n",
        "        final_instruction_answer_pair.append([user_response_dict, assistant_response_dict])\n",
        "\n",
        "    return final_instruction_answer_pair"
      ],
      "metadata": {
        "id": "C6PemBS4Akfs"
      },
      "execution_count": null,
      "outputs": []
    },
    {
      "cell_type": "code",
      "source": [
        "# demo\n",
        "demo_response_from_gemini = generate_with_gemini()\n",
        "demo_final_responses = format_response(demo_response_from_gemini)\n",
        "demo_final_responses[0]"
      ],
      "metadata": {
        "id": "n2KwIS3sBmHd"
      },
      "execution_count": null,
      "outputs": []
    }
  ]
}