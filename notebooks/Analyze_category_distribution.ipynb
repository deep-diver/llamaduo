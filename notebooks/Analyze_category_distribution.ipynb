{
 "cells": [
  {
   "cell_type": "markdown",
   "metadata": {
    "colab_type": "text",
    "id": "view-in-github"
   },
   "source": [
    "<a href=\"https://colab.research.google.com/github/deep-diver/llmops-pipeline/blob/ipynb%2Fbrief-data/notebooks/Analyze_category_distribution.ipynb\" target=\"_parent\"><img src=\"https://colab.research.google.com/assets/colab-badge.svg\" alt=\"Open In Colab\"/></a>"
   ]
  },
  {
   "cell_type": "code",
   "execution_count": null,
   "metadata": {
    "id": "6uOQ2iENMPBC"
   },
   "outputs": [],
   "source": [
    "!pip install datasets"
   ]
  },
  {
   "cell_type": "code",
   "execution_count": null,
   "metadata": {
    "id": "l7I-la7QL-ch"
   },
   "outputs": [],
   "source": [
    "import datasets\n",
    "\n",
    "ds_repo_id = \"HuggingFaceH4/instruction-dataset\"\n",
    "\n",
    "ds = datasets.load_dataset(ds_repo_id)\n",
    "test_ds = ds['test']"
   ]
  },
  {
   "cell_type": "code",
   "execution_count": null,
   "metadata": {
    "colab": {
     "base_uri": "https://localhost:8080/"
    },
    "id": "c5zIsuQxMqof",
    "outputId": "148ed952-b36e-4bd9-bc6a-715e20409c50"
   },
   "outputs": [],
   "source": [
    "from collections import Counter\n",
    "\n",
    "categories = {}\n",
    "for item in test_ds:\n",
    "    subcategory = item['meta']['category']\n",
    "    if subcategory is None:\n",
    "        subcategory = 'None'\n",
    "\n",
    "    if subcategory not in categories:\n",
    "        categories[subcategory] = 1\n",
    "    else:\n",
    "        categories[subcategory] = categories[subcategory] + 1\n",
    "\n",
    "print(categories)"
   ]
  },
  {
   "cell_type": "code",
   "execution_count": null,
   "metadata": {
    "colab": {
     "base_uri": "https://localhost:8080/",
     "height": 487
    },
    "id": "ATVyhJ8oNkVl",
    "outputId": "fa2d6c39-d471-4155-e961-9b3b9a78f012"
   },
   "outputs": [],
   "source": [
    "import matplotlib.pyplot as plt\n",
    "\n",
    "plt.bar(categories.keys(), categories.values())\n",
    "plt.xlabel('Subcategory')\n",
    "plt.ylabel('Frequency')\n",
    "plt.title('Distribution of Subcategories in Meta')\n",
    "\n",
    "plt.xticks(rotation=45, ha='right')  # Add this line\n",
    "plt.tight_layout()\n",
    "plt.show()"
   ]
  },
  {
   "cell_type": "code",
   "execution_count": null,
   "metadata": {
    "id": "h1y7hPX1OHOs"
   },
   "outputs": [],
   "source": []
  }
 ],
 "metadata": {
  "colab": {
   "authorship_tag": "ABX9TyP3Nk0z15n4NDEx/ZzqesYM",
   "include_colab_link": true,
   "provenance": []
  },
  "kernelspec": {
   "display_name": "Python 3 (ipykernel)",
   "language": "python",
   "name": "python3"
  },
  "language_info": {
   "codemirror_mode": {
    "name": "ipython",
    "version": 3
   },
   "file_extension": ".py",
   "mimetype": "text/x-python",
   "name": "python",
   "nbconvert_exporter": "python",
   "pygments_lexer": "ipython3",
   "version": "3.9.17"
  }
 },
 "nbformat": 4,
 "nbformat_minor": 4
}
