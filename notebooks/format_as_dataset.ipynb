{
 "cells": [
  {
   "cell_type": "code",
   "execution_count": 1,
   "id": "9c4380d0-d9dc-4122-82ef-21cf7cebbbf7",
   "metadata": {},
   "outputs": [],
   "source": [
    "import json\n",
    "\n",
    "def find_json_snippet(raw_snippet):\n",
    "\t\"\"\"\n",
    "\tfind_json_snippet tries to find JSON snippets in a given raw_snippet string\n",
    "\t\"\"\"\n",
    "\tjson_parsed_string = None\n",
    "\n",
    "\tjson_start_index = raw_snippet.find('[')\n",
    "\tjson_end_index = raw_snippet.rfind(']')\n",
    "\n",
    "\tif json_start_index >= 0 and json_end_index >= 0:\n",
    "\t\tjson_snippet = raw_snippet[json_start_index:json_end_index+1]\n",
    "\t\ttry:\n",
    "\t\t\tjson_parsed_string = json.loads(json_snippet, strict=False)\n",
    "\t\texcept:\n",
    "\t\t\traise ValueError('......failed to parse string into JSON format')\n",
    "\telse:\n",
    "\t\traise ValueError('......No JSON code snippet found in string.')\n",
    "\n",
    "\treturn json_parsed_string"
   ]
  },
  {
   "cell_type": "code",
   "execution_count": 3,
   "id": "cba84cab-4a41-4052-b479-93f28f000fcd",
   "metadata": {},
   "outputs": [],
   "source": [
    "from typing import List, Dict\n",
    "\n",
    "def format_response(responses: List[Dict[str, str]]):\n",
    "    final_instruction_answer_pair = []\n",
    "\n",
    "    for response in responses:\n",
    "        user_response_dict = {}\n",
    "        assistant_response_dict = {}\n",
    "        user_response_dict[\"content\"] = response[\"instruction\"]\n",
    "        user_response_dict[\"role\"] = \"user\"\n",
    "        assistant_response_dict[\"content\"] = response[\"response\"]\n",
    "        assistant_response_dict[\"role\"] = \"assistant\"\n",
    "\n",
    "        final_instruction_answer_pair.append([user_response_dict, assistant_response_dict])\n",
    "\n",
    "    return final_instruction_answer_pair"
   ]
  },
  {
   "cell_type": "code",
   "execution_count": 4,
   "id": "35e0e81c-6b80-4ff5-883f-91c485dfde91",
   "metadata": {},
   "outputs": [
    {
     "data": {
      "text/plain": [
       "['gemini_results_0.json',\n",
       " 'gemini_results_1.json',\n",
       " 'gemini_results_4.json',\n",
       " 'gemini_results_2.json',\n",
       " 'gemini_results_3.json']"
      ]
     },
     "execution_count": 4,
     "metadata": {},
     "output_type": "execute_result"
    }
   ],
   "source": [
    "import glob \n",
    "\n",
    "all_jsons = glob.glob(\"*.json\")\n",
    "all_jsons"
   ]
  },
  {
   "cell_type": "code",
   "execution_count": 5,
   "id": "48af4904-2770-4a6f-b153-5e67aed5c329",
   "metadata": {},
   "outputs": [
    {
     "data": {
      "text/plain": [
       "[{'candidates': [{'content': {'parts': [{'text': '[\\n    {\\n        \"instruction\": \"Create a function called \\'get_total\\' that takes a list of numbers as a parameter and returns the sum of all the numbers.\",\\n        \"response\": \"```python\\\\ndef get_total(numbers: list) -> int:\\\\n    \\\\\"\\\\\"\\\\\"Calculates the sum of a list of numbers.\\\\\"\\\\\"\\\\\"\\\\n    total = 0\\\\n    for number in numbers:\\\\n        total += number\\\\n    return total```\"\\n    },\\n    {\\n        \"instruction\": \"Write a Python program that takes a list of integers and prints the largest and smallest numbers in the list.\",\\n        \"response\": \"```python\\\\nnums = [3, 6, 9, 12, 15, 18]\\\\n\\\\n# Find the largest number\\\\nlargest = max(nums)\\\\n\\\\n# Find the smallest number\\\\nsmallest = min(nums)\\\\n\\\\n# Print the results\\\\nprint(\\'Largest number:\\', largest)\\\\nprint(\\'Smallest number:\\', smallest)```\"\\n    },\\n    {\\n        \"instruction\": \"Create a Python dictionary that represents a student\\'s information, including their name, age, and courses.\",\\n        \"response\": \"```python\\\\nstudent = {\\\\n    \\'name\\': \\'Alice Smith\\',\\\\n    \\'age\\': 20,\\\\n    \\'courses\\': [\\'Python\\', \\'Data Structures\\', \\'Machine Learning\\']\\\\n}```\"\\n    },\\n    {\\n        \"instruction\": \"Write a Python function called \\'validate_email\\' that takes an email address and returns True if it is valid, and False if it is not.\",\\n        \"response\": \"```python\\\\nimport re\\\\n\\\\ndef validate_email(email: str) -> bool:\\\\n    \\\\\"\\\\\"\\\\\"Validates an email address.\\\\\"\\\\\"\\\\\"\\\\n    regex = r\\'\\\\b[A-Za-z0-9._%+-]+@[A-Za-z0-9.-]+\\\\.[A-Z|a-z]{2,}\\\\b\\'\\\\n    if re.fullmatch(regex, email):\\\\n        return True\\\\n    else:\\\\n        return False```\"\\n    },\\n    {\\n        \"instruction\": \"Create a Python class called \\'Rectangle\\' with attributes \\'width\\' and \\'height\\', and methods \\'get_area\\' and \\'get_perimeter\\'.\",\\n        \"response\": \"```python\\\\nclass Rectangle:\\\\n    \\\\\"\\\\\"\\\\\"Represents a rectangle.\\\\\"\\\\\"\\\\\"\\\\n\\\\n    def __init__(self, width, height):\\\\n        self.width = width\\\\n        self.height = height\\\\n\\\\n    def get_area(self):\\\\n        \\\\\"\\\\\"\\\\\"Calculates the area of the rectangle.\\\\\"\\\\\"\\\\\"\\\\n        return self.width * self.height\\\\n\\\\n    def get_perimeter(self):\\\\n        \\\\\"\\\\\"\\\\\"Calculates the perimeter of the rectangle.\\\\\"\\\\\"\\\\\"\\\\n        return 2 * (self.width + self.height)```\"\\n    }\\n]'}],\n",
       "     'role': 'model'},\n",
       "    'finishReason': 'STOP',\n",
       "    'index': 0,\n",
       "    'safetyRatings': [{'category': 'HARM_CATEGORY_SEXUALLY_EXPLICIT',\n",
       "      'probability': 'NEGLIGIBLE'},\n",
       "     {'category': 'HARM_CATEGORY_HATE_SPEECH', 'probability': 'NEGLIGIBLE'},\n",
       "     {'category': 'HARM_CATEGORY_HARASSMENT', 'probability': 'NEGLIGIBLE'},\n",
       "     {'category': 'HARM_CATEGORY_DANGEROUS_CONTENT',\n",
       "      'probability': 'NEGLIGIBLE'}]}],\n",
       "  'promptFeedback': {'safetyRatings': [{'category': 'HARM_CATEGORY_SEXUALLY_EXPLICIT',\n",
       "     'probability': 'NEGLIGIBLE'},\n",
       "    {'category': 'HARM_CATEGORY_HATE_SPEECH', 'probability': 'NEGLIGIBLE'},\n",
       "    {'category': 'HARM_CATEGORY_HARASSMENT', 'probability': 'NEGLIGIBLE'},\n",
       "    {'category': 'HARM_CATEGORY_DANGEROUS_CONTENT',\n",
       "     'probability': 'NEGLIGIBLE'}]}},\n",
       " {'candidates': [{'content': {'parts': [{'text': '[\\n  {\\n    \"instruction\": \"Explain the purpose of the following Python class:\",\\n    \"response\": \"This Python class represents a bank account with attributes for account number, balance, and owner, and methods for depositing, withdrawing, and getting the balance.\"\\n  },\\n  {\\n    \"instruction\": \"Describe the function of this JavaScript code snippet:\",\\n    \"response\": \"This JavaScript code creates a new array by filtering an existing array based on a callback function that checks if the element is greater than 10.\"\\n  },\\n  {\\n    \"instruction\": \"Can you explain the difference between a Python list and a tuple?\",\\n    \"response\": \"Python lists are mutable, meaning their elements can be changed, while tuples are immutable, meaning their elements cannot be changed after creation.\"\\n  },\\n  {\\n    \"instruction\": \"Write a C function that takes an integer array and its size as input, and returns the sum of all its elements.\",\\n    \"response\": \"int sum(int arr[], int size) { int total = 0; for (int i = 0; i < size; i++) { total += arr[i]; } return total; }\"\\n  },\\n  {\\n    \"instruction\": \"Explain the concept of inheritance in object-oriented programming.\",\\n    \"response\": \"Inheritance allows new classes to be created from existing classes, inheriting their attributes and methods. This promotes code reuse and allows for a hierarchical structure of classes.\"\\n  },\\n  {\\n    \"instruction\": \"What is a lambda function in Python?\",\\n    \"response\": \"A lambda function is a small, anonymous function that can be defined inline without using the \\'def\\' keyword. It can take arguments and return a single expression.\"\\n  },\\n  {\\n    \"instruction\": \"Describe the purpose of a constructor in Java.\",\\n    \"response\": \"A constructor is a special method that is called when an object is created. It initializes the object\\'s state and performs any necessary setup operations.\"\\n  },\\n  {\\n    \"instruction\": \"Write a C++ function that sorts an array of integers in ascending order using the bubble sort algorithm.\",\\n    \"response\": \"void bubbleSort(int arr[], int size) { for (int i = 0; i < size - 1; i++) { for (int j = 0; j < size - i - 1; j++) { if (arr[j] > arr[j + 1]) { int temp = arr[j]; arr[j] = arr[j + 1]; arr[j + 1] = temp; } } } }\"\\n  }\\n]'}],\n",
       "     'role': 'model'},\n",
       "    'finishReason': 'STOP',\n",
       "    'index': 0,\n",
       "    'safetyRatings': [{'category': 'HARM_CATEGORY_SEXUALLY_EXPLICIT',\n",
       "      'probability': 'NEGLIGIBLE'},\n",
       "     {'category': 'HARM_CATEGORY_HATE_SPEECH', 'probability': 'NEGLIGIBLE'},\n",
       "     {'category': 'HARM_CATEGORY_HARASSMENT', 'probability': 'NEGLIGIBLE'},\n",
       "     {'category': 'HARM_CATEGORY_DANGEROUS_CONTENT',\n",
       "      'probability': 'NEGLIGIBLE'}],\n",
       "    'citationMetadata': {'citationSources': [{'startIndex': 2025,\n",
       "       'endIndex': 2207,\n",
       "       'uri': 'https://github.com/AALych/2sem',\n",
       "       'license': ''}]}}],\n",
       "  'promptFeedback': {'safetyRatings': [{'category': 'HARM_CATEGORY_SEXUALLY_EXPLICIT',\n",
       "     'probability': 'NEGLIGIBLE'},\n",
       "    {'category': 'HARM_CATEGORY_HATE_SPEECH', 'probability': 'NEGLIGIBLE'},\n",
       "    {'category': 'HARM_CATEGORY_HARASSMENT', 'probability': 'NEGLIGIBLE'},\n",
       "    {'category': 'HARM_CATEGORY_DANGEROUS_CONTENT',\n",
       "     'probability': 'NEGLIGIBLE'}]}},\n",
       " {'candidates': [{'content': {'parts': [{'text': '```json\\n[\\n  {\\n    \"instruction\": \"Explain how to extract all unique values from a list in Python.\",\\n    \"response\": \"To extract unique values from a list in Python, use the `set()` constructor:\\n\\n```python\\n# Create a list with duplicate values\\nmy_list = [1, 2, 2, 3, 4, 4, 5]\\n\\n# Convert the list to a set to remove duplicates\\nunique_values = set(my_list)\\n\\n# Print the unique values\\nprint(unique_values)  # Output: {1, 2, 3, 4, 5}\\n```\"\\n  },\\n  {\\n    \"instruction\": \"Write a Python function to replace all spaces in a string with underscores.\",\\n    \"response\": \"Use the `replace()` method on the string object:\\n\\n```python\\ndef replace_spaces(text):\\n  \"\"\"Replaces all spaces in a string with underscores.\"\"\"\\n  return text.replace(\\' \\', \\'_\\')\\n\\n# Example usage:\\nmy_string = \\'This is a sentence with spaces.\\'\\nupdated_string = replace_spaces(my_string)\\n\\nprint(updated_string)  # Output: This_is_a_sentence_with_spaces.\\n```\"\\n  },\\n  {\\n    \"instruction\": \"Explain how to sort a dictionary by value in Python.\",\\n    \"response\": \"Use the `sorted()` function with a lambda expression as the key:\\n\\n```python\\n# Create a dictionary\\nmy_dict = {\\'a\\': 3, \\'b\\': 1, \\'c\\': 2}\\n\\n# Sort the dictionary by value in ascending order\\nsorted_dict = dict(sorted(my_dict.items(), key=lambda item: item[1]))\\n\\nprint(sorted_dict)  # Output: {\\'b\\': 1, \\'c\\': 2, \\'a\\': 3}\\n```\"\\n  },\\n  {\\n    \"instruction\": \"Write a Python program to save a dictionary to a JSON file.\",\\n    \"response\": \"Use the `json` module\\'s `dump()` function:\\n\\n```python\\nimport json\\n\\n# Create a dictionary\\nmy_dict = {\\'name\\': \\'John Doe\\', \\'age\\': 30}\\n\\n# Save the dictionary to a JSON file\\nwith open(\\'my_dict.json\\', \\'w\\') as f:\\n    json.dump(my_dict, f)\\n```\"\\n  },\\n  {\\n    \"instruction\": \"Explain how to create a Pandas DataFrame from a list of dictionaries.\",\\n    \"response\": \"Use the `DataFrame()` constructor:\\n\\n```python\\nimport pandas as pd\\n\\n# Create a list of dictionaries\\ndata = [\\n    {\\'name\\': \\'Alice\\', \\'age\\': 25},\\n    {\\'name\\': \\'Bob\\', \\'age\\': 30}\\n]\\n\\n# Create a DataFrame from the list\\ndf = pd.DataFrame(data)\\n\\nprint(df)  # Output:\\n#    name  age\\n# 0  Alice   25\\n# 1    Bob   30\\n```\"\\n  }\\n]\\n```'}],\n",
       "     'role': 'model'},\n",
       "    'finishReason': 'STOP',\n",
       "    'index': 0,\n",
       "    'safetyRatings': [{'category': 'HARM_CATEGORY_SEXUALLY_EXPLICIT',\n",
       "      'probability': 'NEGLIGIBLE'},\n",
       "     {'category': 'HARM_CATEGORY_HATE_SPEECH', 'probability': 'NEGLIGIBLE'},\n",
       "     {'category': 'HARM_CATEGORY_HARASSMENT', 'probability': 'NEGLIGIBLE'},\n",
       "     {'category': 'HARM_CATEGORY_DANGEROUS_CONTENT',\n",
       "      'probability': 'NEGLIGIBLE'}]}],\n",
       "  'promptFeedback': {'safetyRatings': [{'category': 'HARM_CATEGORY_SEXUALLY_EXPLICIT',\n",
       "     'probability': 'NEGLIGIBLE'},\n",
       "    {'category': 'HARM_CATEGORY_HATE_SPEECH', 'probability': 'NEGLIGIBLE'},\n",
       "    {'category': 'HARM_CATEGORY_HARASSMENT', 'probability': 'NEGLIGIBLE'},\n",
       "    {'category': 'HARM_CATEGORY_DANGEROUS_CONTENT',\n",
       "     'probability': 'NEGLIGIBLE'}]}},\n",
       " {'candidates': [{'content': {'parts': [{'text': '```json\\n[\\n    {\\n        \"instruction\": \"Write a function to check if a string is a palindrome.\",\\n        \"response\": \"def is_palindrome(text):\\\\n    # Remove spaces and convert to lowercase\\\\n    text = text.replace(\\' \\', \\'\\').lower()\\\\n    # Check if the string is equal to its reversed form\\\\n    return text == text[::-1]\"\\n    },\\n    {\\n        \"instruction\": \"Create a class to represent a circle.\",\\n        \"response\": \"class Circle:\\\\n    # Constructor\\\\n    def __init__(self, radius):\\\\n        self.radius = radius\\\\n\\\\n    # Calculate area\\\\n    def area(self):\\\\n        return 3.14159 * self.radius ** 2\\\\n\\\\n    # Calculate circumference\\\\n    def circumference(self):\\\\n        return 2 * 3.14159 * self.radius\"\\n    },\\n    {\\n        \"instruction\": \"Write a function to find the sum of all even numbers in a list.\",\\n        \"response\": \"def sum_even(numbers):\\\\n    # Initialize sum\\\\n    total = 0\\\\n\\\\n    # Iterate through the list\\\\n    for number in numbers:\\\\n        # Add even numbers to sum\\\\n        if number % 2 == 0:\\\\n            total += number\\\\n\\\\n    # Return sum\\\\n    return total\"\\n    },\\n    {\\n        \"instruction\": \"Create a dictionary to store employee details like name, age, and salary.\",\\n        \"response\": \"employee_details = {\\\\n    \\'name\\': \\'John Doe\\',\\\\n    \\'age\\': 30,\\\\n    \\'salary\\': 50000\\\\n}\"\\n    },\\n    {\\n        \"instruction\": \"Write a function to search for a value in a binary search tree.\",\\n        \"response\": \"def search_bst(root, value):\\\\n    # Check if the root is null\\\\n    if root is None:\\\\n        return False\\\\n\\\\n    # If the value is at the root, return True\\\\n    if root.value == value:\\\\n        return True\\\\n\\\\n    # Search the left or right subtree based on the value\\\\n    if value < root.value:\\\\n        return search_bst(root.left, value)\\\\n    else:\\\\n        return search_bst(root.right, value)\"\\n    }\\n]\\n```'}],\n",
       "     'role': 'model'},\n",
       "    'finishReason': 'STOP',\n",
       "    'index': 0,\n",
       "    'safetyRatings': [{'category': 'HARM_CATEGORY_SEXUALLY_EXPLICIT',\n",
       "      'probability': 'NEGLIGIBLE'},\n",
       "     {'category': 'HARM_CATEGORY_HATE_SPEECH', 'probability': 'NEGLIGIBLE'},\n",
       "     {'category': 'HARM_CATEGORY_HARASSMENT', 'probability': 'NEGLIGIBLE'},\n",
       "     {'category': 'HARM_CATEGORY_DANGEROUS_CONTENT',\n",
       "      'probability': 'NEGLIGIBLE'}]}],\n",
       "  'promptFeedback': {'safetyRatings': [{'category': 'HARM_CATEGORY_SEXUALLY_EXPLICIT',\n",
       "     'probability': 'NEGLIGIBLE'},\n",
       "    {'category': 'HARM_CATEGORY_HATE_SPEECH', 'probability': 'NEGLIGIBLE'},\n",
       "    {'category': 'HARM_CATEGORY_HARASSMENT', 'probability': 'NEGLIGIBLE'},\n",
       "    {'category': 'HARM_CATEGORY_DANGEROUS_CONTENT',\n",
       "     'probability': 'NEGLIGIBLE'}]}},\n",
       " {'candidates': [{'content': {'parts': [{'text': '[\\n    {\\n        \"instruction\": \"Explain how to create a class in Python with a constructor.\",\\n        \"response\": \"To create a class in Python with a constructor, follow these steps:\\\\n\\\\n1. Define the class using the \\'class\\' keyword followed by the class name.\\\\n2. Create a special method named \\'__init__\\' (constructor) inside the class.\\\\n3. The \\'__init__\\' method takes \\'self\\' as the first argument and any other arguments you want the constructor to accept.\\\\n4. Initialize the class attributes inside the constructor using the \\'self\\' reference.\\\\n\\\\nExample:\\\\n```python\\\\nclass Person:\\\\n    def __init__(self, name, age):\\\\n        self.name = name\\\\n        self.age = age\\\\n```\"\\n    },\\n    {\\n        \"instruction\": \"How do you perform a breadth-first search in Java?\",\\n        \"response\": \"1. Create a Queue.\\\\n2. Enqueue the starting node.\\\\n3. Mark the starting node as visited.\\\\n4. While the Queue is not empty:\\\\n    a. Dequeue a node from the Queue.\\\\n    b. Process the node.\\\\n    c. For each unvisited neighbor of the node, enqueue it and mark it as visited.\\\\n\\\\nExample:\\\\n```java\\\\nvoid bfs(Node root) {\\\\n    Queue<Node> queue = new LinkedList<>();\\\\n    queue.add(root);\\\\n    root.visited = true;\\\\n    while (!queue.isEmpty()) {\\\\n        Node node = queue.remove();\\\\n        // Process the node\\\\n        for (Node neighbor : node.neighbors) {\\\\n            if (!neighbor.visited) {\\\\n                queue.add(neighbor);\\\\n                neighbor.visited = true;\\\\n            }\\\\n        }\\\\n    }\\\\n}\\\\n```\"\\n    },\\n    {\\n        \"instruction\": \"Write a function in C++ that returns the sum of two vectors.\",\\n        \"response\": \"```cpp\\\\n#include <vector>\\\\n\\\\nstd::vector<int> sumVectors(const std::vector<int>& v1, const std::vector<int>& v2) {\\\\n    // Ensure vectors have the same size\\\\n    if (v1.size() != v2.size()) {\\\\n        throw std::invalid_argument(\\\\\"Vectors must have the same size.\\\\\");\\\\n    }\\\\n\\\\n    // Create a result vector\\\\n    std::vector<int> result(v1.size());\\\\n\\\\n    // Calculate the sum of elements\\\\n    for (size_t i = 0; i < v1.size(); ++i) {\\\\n        result[i] = v1[i] + v2[i];\\\\n    }\\\\n\\\\n    // Return the result vector\\\\n    return result;\\\\n}\\\\n```\"\\n    },\\n    {\\n        \"instruction\": \"How to handle exceptions in JavaScript?\",\\n        \"response\": \"Use the try-catch-finally block:\\\\n\\\\n1. **try:** Enclose the code that may throw an exception.\\\\n2. **catch:** Define a block that handles a specific exception type. The exception object is accessible within this block.\\\\n3. **finally:** Optional block that always executes, regardless of whether an exception is thrown or caught.\\\\n\\\\nExample:\\\\n```javascript\\\\ntry {\\\\n    // Code that may throw an exception\\\\n} catch (error) {\\\\n    // Handle the exception\\\\n} finally {\\\\n    // Optional code that always executes\\\\n}\\\\n```\"\\n    },\\n    {\\n        \"instruction\": \"Explain the difference between heap and stack memory in C.\",\\n        \"response\": \"**Heap:**\\\\n* Dynamically allocated memory.\\\\n* Allocated and deallocated at runtime using malloc() and free().\\\\n* Slower access compared to stack.\\\\n* Can lead to memory leaks if not managed properly.\\\\n\\\\n**Stack:**\\\\n* Fixed-size memory used for local variables and function calls.\\\\n* Automatically allocated and deallocated.\\\\n* Faster access compared to heap.\\\\n* Limited space, can lead to stack overflow errors.\"\\n    }\\n]'}],\n",
       "     'role': 'model'},\n",
       "    'finishReason': 'STOP',\n",
       "    'index': 0,\n",
       "    'safetyRatings': [{'category': 'HARM_CATEGORY_SEXUALLY_EXPLICIT',\n",
       "      'probability': 'NEGLIGIBLE'},\n",
       "     {'category': 'HARM_CATEGORY_HATE_SPEECH', 'probability': 'NEGLIGIBLE'},\n",
       "     {'category': 'HARM_CATEGORY_HARASSMENT', 'probability': 'NEGLIGIBLE'},\n",
       "     {'category': 'HARM_CATEGORY_DANGEROUS_CONTENT',\n",
       "      'probability': 'NEGLIGIBLE'}]}],\n",
       "  'promptFeedback': {'safetyRatings': [{'category': 'HARM_CATEGORY_SEXUALLY_EXPLICIT',\n",
       "     'probability': 'NEGLIGIBLE'},\n",
       "    {'category': 'HARM_CATEGORY_HATE_SPEECH', 'probability': 'NEGLIGIBLE'},\n",
       "    {'category': 'HARM_CATEGORY_HARASSMENT', 'probability': 'NEGLIGIBLE'},\n",
       "    {'category': 'HARM_CATEGORY_DANGEROUS_CONTENT',\n",
       "     'probability': 'NEGLIGIBLE'}]}}]"
      ]
     },
     "execution_count": 5,
     "metadata": {},
     "output_type": "execute_result"
    }
   ],
   "source": [
    "with open(all_jsons[0]) as f:\n",
    "    response_sample = json.load(f)\n",
    "response_sample"
   ]
  },
  {
   "cell_type": "code",
   "execution_count": 6,
   "id": "d06f0023-2d31-436b-a488-7a5753145d6e",
   "metadata": {},
   "outputs": [
    {
     "data": {
      "text/plain": [
       "5"
      ]
     },
     "execution_count": 6,
     "metadata": {},
     "output_type": "execute_result"
    }
   ],
   "source": [
    "len(response_sample)"
   ]
  },
  {
   "cell_type": "code",
   "execution_count": 8,
   "id": "6c68c580-1b0f-4326-a43a-72aee6597ca7",
   "metadata": {},
   "outputs": [
    {
     "data": {
      "text/plain": [
       "'[\\n    {\\n        \"instruction\": \"Create a function called \\'get_total\\' that takes a list of numbers as a parameter and returns the sum of all the numbers.\",\\n        \"response\": \"```python\\\\ndef get_total(numbers: list) -> int:\\\\n    \\\\\"\\\\\"\\\\\"Calculates the sum of a list of numbers.\\\\\"\\\\\"\\\\\"\\\\n    total = 0\\\\n    for number in numbers:\\\\n        total += number\\\\n    return total```\"\\n    },\\n    {\\n        \"instruction\": \"Write a Python program that takes a list of integers and prints the largest and smallest numbers in the list.\",\\n        \"response\": \"```python\\\\nnums = [3, 6, 9, 12, 15, 18]\\\\n\\\\n# Find the largest number\\\\nlargest = max(nums)\\\\n\\\\n# Find the smallest number\\\\nsmallest = min(nums)\\\\n\\\\n# Print the results\\\\nprint(\\'Largest number:\\', largest)\\\\nprint(\\'Smallest number:\\', smallest)```\"\\n    },\\n    {\\n        \"instruction\": \"Create a Python dictionary that represents a student\\'s information, including their name, age, and courses.\",\\n        \"response\": \"```python\\\\nstudent = {\\\\n    \\'name\\': \\'Alice Smith\\',\\\\n    \\'age\\': 20,\\\\n    \\'courses\\': [\\'Python\\', \\'Data Structures\\', \\'Machine Learning\\']\\\\n}```\"\\n    },\\n    {\\n        \"instruction\": \"Write a Python function called \\'validate_email\\' that takes an email address and returns True if it is valid, and False if it is not.\",\\n        \"response\": \"```python\\\\nimport re\\\\n\\\\ndef validate_email(email: str) -> bool:\\\\n    \\\\\"\\\\\"\\\\\"Validates an email address.\\\\\"\\\\\"\\\\\"\\\\n    regex = r\\'\\\\b[A-Za-z0-9._%+-]+@[A-Za-z0-9.-]+\\\\.[A-Z|a-z]{2,}\\\\b\\'\\\\n    if re.fullmatch(regex, email):\\\\n        return True\\\\n    else:\\\\n        return False```\"\\n    },\\n    {\\n        \"instruction\": \"Create a Python class called \\'Rectangle\\' with attributes \\'width\\' and \\'height\\', and methods \\'get_area\\' and \\'get_perimeter\\'.\",\\n        \"response\": \"```python\\\\nclass Rectangle:\\\\n    \\\\\"\\\\\"\\\\\"Represents a rectangle.\\\\\"\\\\\"\\\\\"\\\\n\\\\n    def __init__(self, width, height):\\\\n        self.width = width\\\\n        self.height = height\\\\n\\\\n    def get_area(self):\\\\n        \\\\\"\\\\\"\\\\\"Calculates the area of the rectangle.\\\\\"\\\\\"\\\\\"\\\\n        return self.width * self.height\\\\n\\\\n    def get_perimeter(self):\\\\n        \\\\\"\\\\\"\\\\\"Calculates the perimeter of the rectangle.\\\\\"\\\\\"\\\\\"\\\\n        return 2 * (self.width + self.height)```\"\\n    }\\n]'"
      ]
     },
     "execution_count": 8,
     "metadata": {},
     "output_type": "execute_result"
    }
   ],
   "source": [
    "response_sample[0][\"candidates\"][0][\"content\"][\"parts\"][0][\"text\"]"
   ]
  },
  {
   "cell_type": "code",
   "execution_count": 10,
   "id": "ad70c8e7-5294-4f3d-959d-2c3d35ee72be",
   "metadata": {},
   "outputs": [
    {
     "data": {
      "text/plain": [
       "[{'instruction': \"Create a function called 'get_total' that takes a list of numbers as a parameter and returns the sum of all the numbers.\",\n",
       "  'response': '```python\\ndef get_total(numbers: list) -> int:\\n    \"\"\"Calculates the sum of a list of numbers.\"\"\"\\n    total = 0\\n    for number in numbers:\\n        total += number\\n    return total```'},\n",
       " {'instruction': 'Write a Python program that takes a list of integers and prints the largest and smallest numbers in the list.',\n",
       "  'response': \"```python\\nnums = [3, 6, 9, 12, 15, 18]\\n\\n# Find the largest number\\nlargest = max(nums)\\n\\n# Find the smallest number\\nsmallest = min(nums)\\n\\n# Print the results\\nprint('Largest number:', largest)\\nprint('Smallest number:', smallest)```\"},\n",
       " {'instruction': \"Create a Python dictionary that represents a student's information, including their name, age, and courses.\",\n",
       "  'response': \"```python\\nstudent = {\\n    'name': 'Alice Smith',\\n    'age': 20,\\n    'courses': ['Python', 'Data Structures', 'Machine Learning']\\n}```\"},\n",
       " {'instruction': \"Write a Python function called 'validate_email' that takes an email address and returns True if it is valid, and False if it is not.\",\n",
       "  'response': '```python\\nimport re\\n\\ndef validate_email(email: str) -> bool:\\n    \"\"\"Validates an email address.\"\"\"\\n    regex = r\\'\\x08[A-Za-z0-9._%+-]+@[A-Za-z0-9.-]+\\\\.[A-Z|a-z]{2,}\\x08\\'\\n    if re.fullmatch(regex, email):\\n        return True\\n    else:\\n        return False```'},\n",
       " {'instruction': \"Create a Python class called 'Rectangle' with attributes 'width' and 'height', and methods 'get_area' and 'get_perimeter'.\",\n",
       "  'response': '```python\\nclass Rectangle:\\n    \"\"\"Represents a rectangle.\"\"\"\\n\\n    def __init__(self, width, height):\\n        self.width = width\\n        self.height = height\\n\\n    def get_area(self):\\n        \"\"\"Calculates the area of the rectangle.\"\"\"\\n        return self.width * self.height\\n\\n    def get_perimeter(self):\\n        \"\"\"Calculates the perimeter of the rectangle.\"\"\"\\n        return 2 * (self.width + self.height)```'}]"
      ]
     },
     "execution_count": 10,
     "metadata": {},
     "output_type": "execute_result"
    }
   ],
   "source": [
    "eval(response_sample[0][\"candidates\"][0][\"content\"][\"parts\"][0][\"text\"])"
   ]
  },
  {
   "cell_type": "code",
   "execution_count": 12,
   "id": "89f63427-a25b-4b71-b68f-454a918eb730",
   "metadata": {},
   "outputs": [
    {
     "data": {
      "text/plain": [
       "[{'content': \"Create a function called 'get_total' that takes a list of numbers as a parameter and returns the sum of all the numbers.\",\n",
       "  'role': 'user'},\n",
       " {'content': '```python\\ndef get_total(numbers: list) -> int:\\n    \"\"\"Calculates the sum of a list of numbers.\"\"\"\\n    total = 0\\n    for number in numbers:\\n        total += number\\n    return total```',\n",
       "  'role': 'assistant'}]"
      ]
     },
     "execution_count": 12,
     "metadata": {},
     "output_type": "execute_result"
    }
   ],
   "source": [
    "all_formatted_responses = format_response(\n",
    "    eval(response_sample[0][\"candidates\"][0][\"content\"][\"parts\"][0][\"text\"])\n",
    ")\n",
    "all_formatted_responses[0]"
   ]
  },
  {
   "cell_type": "code",
   "execution_count": 14,
   "id": "325fc740-e735-498e-a81c-7c65986ca197",
   "metadata": {},
   "outputs": [
    {
     "data": {
      "text/plain": [
       "Dataset({\n",
       "    features: ['prompt', 'prompt_id', 'messages', 'category'],\n",
       "    num_rows: 5\n",
       "})"
      ]
     },
     "execution_count": 14,
     "metadata": {},
     "output_type": "execute_result"
    }
   ],
   "source": [
    "from datasets import Dataset\n",
    "\n",
    "prompts = [\"gemini-generated\"] * len(all_formatted_responses)\n",
    "prompt_ids = [\"gemini-generated\"] * len(all_formatted_responses)\n",
    "categories = [\"Coding\"] * len(all_formatted_responses)\n",
    "\n",
    "dataset = Dataset.from_dict({\n",
    "    \"prompt\": prompts,\n",
    "    \"prompt_id\": prompt_ids,\n",
    "    \"messages\": all_formatted_responses,\n",
    "    \"category\": categories\n",
    "})\n",
    "dataset"
   ]
  },
  {
   "cell_type": "code",
   "execution_count": 15,
   "id": "b945deee-0718-4b85-8b66-fdb3da0debd1",
   "metadata": {},
   "outputs": [
    {
     "data": {
      "text/plain": [
       "{'prompt': 'gemini-generated',\n",
       " 'prompt_id': 'gemini-generated',\n",
       " 'messages': [{'content': \"Create a function called 'get_total' that takes a list of numbers as a parameter and returns the sum of all the numbers.\",\n",
       "   'role': 'user'},\n",
       "  {'content': '```python\\ndef get_total(numbers: list) -> int:\\n    \"\"\"Calculates the sum of a list of numbers.\"\"\"\\n    total = 0\\n    for number in numbers:\\n        total += number\\n    return total```',\n",
       "   'role': 'assistant'}],\n",
       " 'category': 'Coding'}"
      ]
     },
     "execution_count": 15,
     "metadata": {},
     "output_type": "execute_result"
    }
   ],
   "source": [
    "dataset[0]"
   ]
  }
 ],
 "metadata": {
  "kernelspec": {
   "display_name": "Python 3 (ipykernel)",
   "language": "python",
   "name": "python3"
  },
  "language_info": {
   "codemirror_mode": {
    "name": "ipython",
    "version": 3
   },
   "file_extension": ".py",
   "mimetype": "text/x-python",
   "name": "python",
   "nbconvert_exporter": "python",
   "pygments_lexer": "ipython3",
   "version": "3.9.17"
  }
 },
 "nbformat": 4,
 "nbformat_minor": 5
}
