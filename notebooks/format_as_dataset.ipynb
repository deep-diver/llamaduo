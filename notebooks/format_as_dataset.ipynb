{
 "cells": [
  {
   "cell_type": "code",
   "execution_count": null,
   "id": "9c4380d0-d9dc-4122-82ef-21cf7cebbbf7",
   "metadata": {},
   "outputs": [],
   "source": [
    "import json\n",
    "\n",
    "def find_json_snippet(raw_snippet):\n",
    "\t\"\"\"\n",
    "\tfind_json_snippet tries to find JSON snippets in a given raw_snippet string\n",
    "\t\"\"\"\n",
    "\tjson_parsed_string = None\n",
    "\n",
    "\tjson_start_index = raw_snippet.find('[')\n",
    "\tjson_end_index = raw_snippet.rfind(']')\n",
    "\n",
    "\tif json_start_index >= 0 and json_end_index >= 0:\n",
    "\t\tjson_snippet = raw_snippet[json_start_index:json_end_index+1]\n",
    "\t\ttry:\n",
    "\t\t\tjson_parsed_string = json.loads(json_snippet, strict=False)\n",
    "\t\texcept:\n",
    "\t\t\traise ValueError('......failed to parse string into JSON format')\n",
    "\telse:\n",
    "\t\traise ValueError('......No JSON code snippet found in string.')\n",
    "\n",
    "\treturn json_parsed_string"
   ]
  },
  {
   "cell_type": "code",
   "execution_count": null,
   "id": "cba84cab-4a41-4052-b479-93f28f000fcd",
   "metadata": {},
   "outputs": [],
   "source": [
    "from typing import List, Dict\n",
    "\n",
    "def format_response(responses: List[Dict[str, str]]):\n",
    "    final_instruction_answer_pair = []\n",
    "\n",
    "    for response in responses:\n",
    "        user_response_dict = {}\n",
    "        assistant_response_dict = {}\n",
    "        user_response_dict[\"content\"] = response[\"instruction\"]\n",
    "        user_response_dict[\"role\"] = \"user\"\n",
    "        assistant_response_dict[\"content\"] = response[\"response\"]\n",
    "        assistant_response_dict[\"role\"] = \"assistant\"\n",
    "\n",
    "        final_instruction_answer_pair.append([user_response_dict, assistant_response_dict])\n",
    "\n",
    "    return final_instruction_answer_pair"
   ]
  },
  {
   "cell_type": "code",
   "execution_count": null,
   "id": "35e0e81c-6b80-4ff5-883f-91c485dfde91",
   "metadata": {},
   "outputs": [],
   "source": [
    "import glob \n",
    "\n",
    "all_jsons = glob.glob(\"*.json\")\n",
    "all_jsons"
   ]
  },
  {
   "cell_type": "code",
   "execution_count": null,
   "id": "48af4904-2770-4a6f-b153-5e67aed5c329",
   "metadata": {},
   "outputs": [],
   "source": [
    "with open(all_jsons[0]) as f:\n",
    "    response_sample = json.load(f)\n",
    "response_sample"
   ]
  },
  {
   "cell_type": "code",
   "execution_count": null,
   "id": "d06f0023-2d31-436b-a488-7a5753145d6e",
   "metadata": {},
   "outputs": [],
   "source": [
    "len(response_sample)"
   ]
  },
  {
   "cell_type": "code",
   "execution_count": null,
   "id": "6c68c580-1b0f-4326-a43a-72aee6597ca7",
   "metadata": {},
   "outputs": [],
   "source": [
    "response_sample[0][\"candidates\"][0][\"content\"][\"parts\"][0][\"text\"]"
   ]
  },
  {
   "cell_type": "code",
   "execution_count": null,
   "id": "ad70c8e7-5294-4f3d-959d-2c3d35ee72be",
   "metadata": {},
   "outputs": [],
   "source": [
    "eval(response_sample[0][\"candidates\"][0][\"content\"][\"parts\"][0][\"text\"])"
   ]
  },
  {
   "cell_type": "code",
   "execution_count": null,
   "id": "89f63427-a25b-4b71-b68f-454a918eb730",
   "metadata": {},
   "outputs": [],
   "source": [
    "all_formatted_responses = format_response(\n",
    "    eval(response_sample[0][\"candidates\"][0][\"content\"][\"parts\"][0][\"text\"])\n",
    ")\n",
    "all_formatted_responses[0]"
   ]
  },
  {
   "cell_type": "code",
   "execution_count": null,
   "id": "325fc740-e735-498e-a81c-7c65986ca197",
   "metadata": {},
   "outputs": [],
   "source": [
    "from datasets import Dataset\n",
    "\n",
    "prompts = [\"gemini-generated\"] * len(all_formatted_responses)\n",
    "prompt_ids = [\"gemini-generated\"] * len(all_formatted_responses)\n",
    "categories = [\"Coding\"] * len(all_formatted_responses)\n",
    "\n",
    "dataset = Dataset.from_dict({\n",
    "    \"prompt\": prompts,\n",
    "    \"prompt_id\": prompt_ids,\n",
    "    \"messages\": all_formatted_responses,\n",
    "    \"category\": categories\n",
    "})\n",
    "dataset"
   ]
  },
  {
   "cell_type": "code",
   "execution_count": null,
   "id": "b945deee-0718-4b85-8b66-fdb3da0debd1",
   "metadata": {},
   "outputs": [],
   "source": [
    "dataset[0]"
   ]
  }
 ],
 "metadata": {
  "kernelspec": {
   "display_name": "Python 3 (ipykernel)",
   "language": "python",
   "name": "python3"
  },
  "language_info": {
   "codemirror_mode": {
    "name": "ipython",
    "version": 3
   },
   "file_extension": ".py",
   "mimetype": "text/x-python",
   "name": "python",
   "nbconvert_exporter": "python",
   "pygments_lexer": "ipython3",
   "version": "3.9.17"
  }
 },
 "nbformat": 4,
 "nbformat_minor": 5
}
